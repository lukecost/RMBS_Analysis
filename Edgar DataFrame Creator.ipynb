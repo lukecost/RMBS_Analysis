{
 "cells": [
  {
   "cell_type": "code",
   "execution_count": 1,
   "metadata": {},
   "outputs": [],
   "source": [
    "import pandas as pd\n",
    "from bs4 import BeautifulSoup\n",
    "import requests"
   ]
  },
  {
   "cell_type": "code",
   "execution_count": 101,
   "metadata": {},
   "outputs": [],
   "source": [
    "url = \"https://www.sec.gov/Archives/edgar/data/1675654/000089109216015335/e00525ex99-5.htm\"\n",
    "\n",
    "headers_sec = {'User-Agent': 'The Oakleaf Group - jake.heid@theoakleafgroup.com - (A RMBS consulting company)',}\n",
    "\n",
    "html = requests.get(url, headers = headers_sec).content\n",
    "\n",
    "soup = BeautifulSoup(html, 'html.parser')\n",
    "table = soup.find(\"table\")\n",
    "\n",
    "df_exception = pd.read_html(str(table))[0]\n",
    "\n",
    "df_exception.rename(columns=df_exception.iloc[0], inplace=True)\n",
    "df_exception = df_exception.iloc[1:]\n"
   ]
  },
  {
   "cell_type": "code",
   "execution_count": 102,
   "metadata": {},
   "outputs": [],
   "source": [
    "url = \"https://www.sec.gov/Archives/edgar/data/1675654/000089109216015335/e00525ex99-3.htm\"\n",
    "\n",
    "headers_sec = {'User-Agent': 'The Oakleaf Group - jake.heid@theoakleafgroup.com - (A RMBS consulting company)',}\n",
    "\n",
    "html = requests.get(url, headers = headers_sec).content\n",
    "\n",
    "soup = BeautifulSoup(html, 'html.parser')\n",
    "table = soup.find(\"table\")\n",
    "\n",
    "df_integrity = pd.read_html(str(table))[0]\n",
    "\n",
    "#df_integrity.rename(columns=df_integrity.iloc[0], inplace=True)\n",
    "#df_integrity = df_integrity.iloc[1:]\n",
    "\n",
    "df_integrity.rename(columns=df_integrity.iloc[3], inplace=True)\n",
    "df_integrity = df_integrity.iloc[4:]\n",
    "\n"
   ]
  },
  {
   "cell_type": "code",
   "execution_count": 103,
   "metadata": {},
   "outputs": [],
   "source": [
    "url = \"https://www.sec.gov/Archives/edgar/data/1675654/000089109216015335/e00525ex99-2.htm\"\n",
    "\n",
    "headers_sec = {'User-Agent': 'The Oakleaf Group - jake.heid@theoakleafgroup.com - (A RMBS consulting company)',}\n",
    "\n",
    "html = requests.get(url, headers = headers_sec).content\n",
    "\n",
    "soup = BeautifulSoup(html, 'html.parser')\n",
    "table = soup.find(\"table\")\n",
    "\n",
    "df_loan_level_rating = pd.read_html(str(table))[0]\n",
    "\n",
    "df_loan_level_rating.rename(columns=df_loan_level_rating.iloc[0], inplace=True)\n",
    "df_loan_level_rating = df_loan_level_rating.iloc[1:]\n",
    "\n"
   ]
  },
  {
   "cell_type": "code",
   "execution_count": 104,
   "metadata": {},
   "outputs": [],
   "source": [
    "url = 'https://www.sec.gov/Archives/edgar/data/1675654/000089109216015335/e00525ex99-4.htm'\n",
    "\n",
    "headers_sec = {'User-Agent': 'The Oakleaf Group - jake.heid@theoakleafgroup.com - (A RMBS consulting company)',}\n",
    "\n",
    "html = requests.get(url, headers = headers_sec).content\n",
    "\n",
    "soup = BeautifulSoup(html, 'html.parser')\n",
    "table = soup.find(\"table\")\n",
    "\n",
    "df_valuation = pd.read_html(str(table))[0]\n",
    "\n",
    "df_valuation.rename(columns=df_valuation.iloc[0], inplace=True)\n",
    "df_valuation = df_valuation.iloc[1:]\n",
    "\n",
    "new_columns = []\n",
    "for x in range(len(df_valuation.columns)):\n",
    "    new_columns.append((df_valuation.columns[x], df_valuation.iloc[0][x]))\n",
    "\n",
    "df_valuation.columns = pd.MultiIndex.from_tuples(new_columns)\n",
    "df_valuation = df_valuation.iloc[1:]\n",
    "\n",
    "#reset index\n",
    "df_valuation = df_valuation.reset_index(drop=True)\n"
   ]
  },
  {
   "cell_type": "code",
   "execution_count": 111,
   "metadata": {},
   "outputs": [
    {
     "data": {
      "text/html": [
       "<div>\n",
       "<style scoped>\n",
       "    .dataframe tbody tr th:only-of-type {\n",
       "        vertical-align: middle;\n",
       "    }\n",
       "\n",
       "    .dataframe tbody tr th {\n",
       "        vertical-align: top;\n",
       "    }\n",
       "\n",
       "    .dataframe thead th {\n",
       "        text-align: right;\n",
       "    }\n",
       "</style>\n",
       "<table border=\"1\" class=\"dataframe\">\n",
       "  <thead>\n",
       "    <tr style=\"text-align: right;\">\n",
       "      <th></th>\n",
       "      <th>AMC Loan ID</th>\n",
       "      <th>Appraised Value</th>\n",
       "      <th>Appraisal Date</th>\n",
       "    </tr>\n",
       "  </thead>\n",
       "  <tbody>\n",
       "    <tr>\n",
       "      <th>0</th>\n",
       "      <td>200452262</td>\n",
       "      <td>$140,000.00</td>\n",
       "      <td>11/24/2015</td>\n",
       "    </tr>\n",
       "    <tr>\n",
       "      <th>1</th>\n",
       "      <td>200343486</td>\n",
       "      <td>$403,000.00</td>\n",
       "      <td>10/27/2015</td>\n",
       "    </tr>\n",
       "    <tr>\n",
       "      <th>2</th>\n",
       "      <td>200419913</td>\n",
       "      <td>$900,000.00</td>\n",
       "      <td>12/21/2015</td>\n",
       "    </tr>\n",
       "    <tr>\n",
       "      <th>3</th>\n",
       "      <td>200459830</td>\n",
       "      <td>$313,000.00</td>\n",
       "      <td>11/30/2015</td>\n",
       "    </tr>\n",
       "    <tr>\n",
       "      <th>4</th>\n",
       "      <td>200391306</td>\n",
       "      <td>$71,000.00</td>\n",
       "      <td>10/19/2015</td>\n",
       "    </tr>\n",
       "    <tr>\n",
       "      <th>...</th>\n",
       "      <td>...</td>\n",
       "      <td>...</td>\n",
       "      <td>...</td>\n",
       "    </tr>\n",
       "    <tr>\n",
       "      <th>363</th>\n",
       "      <td>200419922</td>\n",
       "      <td>$509,000.00</td>\n",
       "      <td>01/15/2016</td>\n",
       "    </tr>\n",
       "    <tr>\n",
       "      <th>364</th>\n",
       "      <td>200419928</td>\n",
       "      <td>$425,000.00</td>\n",
       "      <td>01/06/2016</td>\n",
       "    </tr>\n",
       "    <tr>\n",
       "      <th>365</th>\n",
       "      <td>200393961</td>\n",
       "      <td>$980,000.00</td>\n",
       "      <td>11/20/2015</td>\n",
       "    </tr>\n",
       "    <tr>\n",
       "      <th>366</th>\n",
       "      <td>200466720</td>\n",
       "      <td>$1,050,000.00</td>\n",
       "      <td>02/08/2016</td>\n",
       "    </tr>\n",
       "    <tr>\n",
       "      <th>367</th>\n",
       "      <td>200464255</td>\n",
       "      <td>$2,450,000.00</td>\n",
       "      <td>12/30/2015</td>\n",
       "    </tr>\n",
       "  </tbody>\n",
       "</table>\n",
       "<p>368 rows × 3 columns</p>\n",
       "</div>"
      ],
      "text/plain": [
       "    AMC Loan ID Appraised Value Appraisal Date\n",
       "0     200452262     $140,000.00     11/24/2015\n",
       "1     200343486     $403,000.00     10/27/2015\n",
       "2     200419913     $900,000.00     12/21/2015\n",
       "3     200459830     $313,000.00     11/30/2015\n",
       "4     200391306      $71,000.00     10/19/2015\n",
       "..          ...             ...            ...\n",
       "363   200419922     $509,000.00     01/15/2016\n",
       "364   200419928     $425,000.00     01/06/2016\n",
       "365   200393961     $980,000.00     11/20/2015\n",
       "366   200466720   $1,050,000.00     02/08/2016\n",
       "367   200464255   $2,450,000.00     12/30/2015\n",
       "\n",
       "[368 rows x 3 columns]"
      ]
     },
     "execution_count": 111,
     "metadata": {},
     "output_type": "execute_result"
    }
   ],
   "source": [
    "df_valuation_specific_columns = df_valuation[[('LOAN INFORMATION', 'AMC Loan ID'), ('ORIGINATION VALUES', 'Appraised Value'),('ORIGINATION VALUES', 'Appraisal Date')]]\n",
    "#make the subcolumns the columns\n",
    "df_valuation_specific_columns.columns = df_valuation_specific_columns.columns.droplevel(0)\n",
    "df_valuation_specific_columns"
   ]
  },
  {
   "cell_type": "code",
   "execution_count": 106,
   "metadata": {},
   "outputs": [],
   "source": [
    "cols_to_use = df_exception.columns.difference(df_loan_level_rating.columns)\n",
    "#add AMC Loan ID to cols_to_use\n",
    "cols_to_use = cols_to_use.append(pd.Index(['Loan Exception ID']))\n",
    "\n",
    "#merge df_exception and df_loan_level_rating on Loan Exception ID\n",
    "df_merged = pd.merge(df_loan_level_rating, df_exception[cols_to_use], on='Loan Exception ID', how='outer')\n",
    "\n",
    "df_merged = pd.merge(df_merged, df_valuation_specific_columns, on='AMC Loan ID', how='outer')\n",
    "\n",
    "#make loan exception ID the lindex\n",
    "df_merged = df_merged.set_index('Loan Exception ID')\n",
    "#make the index the first column\n",
    "df_merged = df_merged.reset_index()\n",
    "#sort by loan ID\n",
    "df_merged = df_merged.sort_values(by='AMC Loan ID')"
   ]
  },
  {
   "cell_type": "code",
   "execution_count": 107,
   "metadata": {},
   "outputs": [],
   "source": [
    "df_merged_credit = df_merged[df_merged['Exception Type'] == 'Credit']\n"
   ]
  },
  {
   "cell_type": "code",
   "execution_count": 108,
   "metadata": {},
   "outputs": [],
   "source": [
    "columns_to_keep = ['Loan Exception ID', 'AMC Loan ID', 'Exception Date', 'Exception Type', 'Exception Category', 'Exception Subcategory', 'Exception',\n",
    "'Property State', 'Occupancy', 'Purpose', 'Fitch Overall Final', 'Fitch Credit Final', 'Fitch Compliance Final', 'Fitch Property Final', 'DBRS Final Exception Rating',\n",
    "'Fitch Final Exception Rating', 'Originator QM ATR Status']"
   ]
  },
  {
   "cell_type": "code",
   "execution_count": 109,
   "metadata": {},
   "outputs": [],
   "source": [
    "df_merged_credit_specific_columns = df_merged_credit[columns_to_keep]"
   ]
  },
  {
   "cell_type": "code",
   "execution_count": 110,
   "metadata": {},
   "outputs": [],
   "source": [
    "writer = pd.ExcelWriter('COLT 2016-1 Merged Data_v3.xlsx', engine='xlsxwriter')\n",
    "\n",
    "df_merged.to_excel(writer, sheet_name='Rating + Exception')\n",
    "df_merged_credit.to_excel(writer, sheet_name='Rating + Exception Credit')\n",
    "df_merged_credit_specific_columns.to_excel(writer, sheet_name='Specific Columns')\n",
    "df_integrity.to_excel(writer, sheet_name='Integrity')\n",
    "\n",
    "writer.save()\n"
   ]
  }
 ],
 "metadata": {
  "kernelspec": {
   "display_name": "Python 3.9.7 ('base')",
   "language": "python",
   "name": "python3"
  },
  "language_info": {
   "codemirror_mode": {
    "name": "ipython",
    "version": 3
   },
   "file_extension": ".py",
   "mimetype": "text/x-python",
   "name": "python",
   "nbconvert_exporter": "python",
   "pygments_lexer": "ipython3",
   "version": "3.9.7"
  },
  "orig_nbformat": 4,
  "vscode": {
   "interpreter": {
    "hash": "96599b3b0b3f2c0cd94a8485993c42dd8ee74463d669d012633eb59f659eb704"
   }
  }
 },
 "nbformat": 4,
 "nbformat_minor": 2
}
